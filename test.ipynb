{
 "cells": [
  {
   "cell_type": "code",
   "execution_count": 2,
   "metadata": {},
   "outputs": [
    {
     "name": "stdout",
     "output_type": "stream",
     "text": [
      "The sum of 10 and 20 is 30. Written to sum_output.csv.\n"
     ]
    }
   ],
   "source": [
    "import csv\n",
    "\n",
    "# Function to add two numbers\n",
    "def add_numbers(num1, num2):\n",
    "    return num1 + num2\n",
    "\n",
    "# Example numbers\n",
    "number1 = 10\n",
    "number2 = 20\n",
    "\n",
    "# Calculate the sum\n",
    "result = add_numbers(number1, number2)\n",
    "\n",
    "# CSV file path\n",
    "csv_file = 'sum_output.csv'\n",
    "\n",
    "# Write the result to CSV\n",
    "with open(csv_file, mode='w', newline='') as file:\n",
    "    writer = csv.writer(file)\n",
    "    writer.writerow(['Number 1', 'Number 2', 'Sum'])\n",
    "    writer.writerow([number1, number2, result])\n",
    "\n",
    "print(f\"The sum of {number1} and {number2} is {result}. Written to {csv_file}.\")\n"
   ]
  }
 ],
 "metadata": {
  "kernelspec": {
   "display_name": "Python 3",
   "language": "python",
   "name": "python3"
  },
  "language_info": {
   "codemirror_mode": {
    "name": "ipython",
    "version": 3
   },
   "file_extension": ".py",
   "mimetype": "text/x-python",
   "name": "python",
   "nbconvert_exporter": "python",
   "pygments_lexer": "ipython3",
   "version": "3.11.5"
  }
 },
 "nbformat": 4,
 "nbformat_minor": 2
}
